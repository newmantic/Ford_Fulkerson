{
  "nbformat": 4,
  "nbformat_minor": 0,
  "metadata": {
    "colab": {
      "provenance": [],
      "authorship_tag": "ABX9TyMDgbixFTaESwquSncwJc3f",
      "include_colab_link": true
    },
    "kernelspec": {
      "name": "python3",
      "display_name": "Python 3"
    },
    "language_info": {
      "name": "python"
    }
  },
  "cells": [
    {
      "cell_type": "markdown",
      "metadata": {
        "id": "view-in-github",
        "colab_type": "text"
      },
      "source": [
        "<a href=\"https://colab.research.google.com/github/newmantic/Ford_Fulkerson/blob/main/Ford_Fulkerson.ipynb\" target=\"_parent\"><img src=\"https://colab.research.google.com/assets/colab-badge.svg\" alt=\"Open In Colab\"/></a>"
      ]
    },
    {
      "cell_type": "code",
      "execution_count": 1,
      "metadata": {
        "id": "9fhFvMhY5Arx"
      },
      "outputs": [],
      "source": [
        "from collections import defaultdict, deque\n",
        "\n",
        "class FlowNetwork:\n",
        "    def __init__(self):\n",
        "        self.graph = defaultdict(dict)\n",
        "\n",
        "    def add_edge(self, u, v, w):\n",
        "        # Add a forward edge with capacity w\n",
        "        if v not in self.graph[u]:\n",
        "            self.graph[u][v] = 0\n",
        "        self.graph[u][v] += w\n",
        "\n",
        "        # Add a backward edge with capacity 0\n",
        "        if u not in self.graph[v]:\n",
        "            self.graph[v][u] = 0\n",
        "\n",
        "    def _bfs(self, source, sink, parent):\n",
        "        visited = {node: False for node in self.graph}\n",
        "        queue = deque([source])\n",
        "        visited[source] = True\n",
        "\n",
        "        while queue:\n",
        "            u = queue.popleft()\n",
        "\n",
        "            for v in self.graph[u]:\n",
        "                if not visited[v] and self.graph[u][v] > 0:  # Residual capacity > 0\n",
        "                    queue.append(v)\n",
        "                    visited[v] = True\n",
        "                    parent[v] = u\n",
        "                    if v == sink:\n",
        "                        return True\n",
        "        return False\n",
        "\n",
        "    def ford_fulkerson(self, source, sink):\n",
        "        parent = {}\n",
        "        max_flow = 0\n",
        "\n",
        "        while self._bfs(source, sink, parent):\n",
        "            # Find the maximum flow through the path found by BFS\n",
        "            path_flow = float('Inf')\n",
        "            s = sink\n",
        "\n",
        "            while s != source:\n",
        "                path_flow = min(path_flow, self.graph[parent[s]][s])\n",
        "                s = parent[s]\n",
        "\n",
        "            # Update residual capacities of the edges and reverse edges along the path\n",
        "            v = sink\n",
        "            while v != source:\n",
        "                u = parent[v]\n",
        "                self.graph[u][v] -= path_flow\n",
        "                self.graph[v][u] += path_flow\n",
        "                v = parent[v]\n",
        "\n",
        "            max_flow += path_flow\n",
        "\n",
        "        return max_flow\n"
      ]
    },
    {
      "cell_type": "code",
      "source": [
        "# Example 1: Simple Graph\n",
        "flow_network = FlowNetwork()\n",
        "flow_network.add_edge('S', 'A', 10)\n",
        "flow_network.add_edge('S', 'B', 5)\n",
        "flow_network.add_edge('A', 'C', 15)\n",
        "flow_network.add_edge('B', 'C', 10)\n",
        "flow_network.add_edge('B', 'D', 10)\n",
        "flow_network.add_edge('C', 'T', 10)\n",
        "flow_network.add_edge('D', 'T', 10)\n",
        "\n",
        "print(\"Maximum flow:\", flow_network.ford_fulkerson('S', 'T'))\n",
        "# Expected output: Maximum flow: 20\n",
        "\n",
        "# Example 2: Disconnected Graph\n",
        "flow_network = FlowNetwork()\n",
        "flow_network.add_edge('S', 'A', 10)\n",
        "flow_network.add_edge('A', 'B', 5)\n",
        "flow_network.add_edge('C', 'T', 10)\n",
        "\n",
        "print(\"Maximum flow:\", flow_network.ford_fulkerson('S', 'T'))\n",
        "# Expected output: Maximum flow: 0 (no path from S to T)\n",
        "\n",
        "# Example 3: Graph with Equal Capacity Edges\n",
        "flow_network = FlowNetwork()\n",
        "flow_network.add_edge('S', 'A', 10)\n",
        "flow_network.add_edge('S', 'B', 10)\n",
        "flow_network.add_edge('A', 'T', 10)\n",
        "flow_network.add_edge('B', 'T', 10)\n",
        "\n",
        "print(\"Maximum flow:\", flow_network.ford_fulkerson('S', 'T'))\n",
        "# Expected output: Maximum flow: 20\n",
        "\n",
        "# Example 4: Graph with a Bottleneck Edge\n",
        "flow_network = FlowNetwork()\n",
        "flow_network.add_edge('S', 'A', 10)\n",
        "flow_network.add_edge('A', 'B', 5)\n",
        "flow_network.add_edge('B', 'T', 10)\n",
        "\n",
        "print(\"Maximum flow:\", flow_network.ford_fulkerson('S', 'T'))\n",
        "# Expected output: Maximum flow: 5 (bottleneck at edge A -> B)"
      ],
      "metadata": {
        "colab": {
          "base_uri": "https://localhost:8080/"
        },
        "id": "XOxcy43P5RS3",
        "outputId": "0fc31703-4646-446c-a5f4-206a8341a870"
      },
      "execution_count": 2,
      "outputs": [
        {
          "output_type": "stream",
          "name": "stdout",
          "text": [
            "Maximum flow: 15\n",
            "Maximum flow: 0\n",
            "Maximum flow: 20\n",
            "Maximum flow: 5\n"
          ]
        }
      ]
    }
  ]
}